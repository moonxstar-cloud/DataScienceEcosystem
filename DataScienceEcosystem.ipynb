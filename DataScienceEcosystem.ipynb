{
 "cells": [
  {
   "cell_type": "markdown",
   "id": "18b20978-0be4-4990-8fc2-91f91a408a4b",
   "metadata": {},
   "source": [
    "# Data Science Tools and Ecosystem"
   ]
  },
  {
   "cell_type": "markdown",
   "id": "10c574ff-16d1-49f9-b8df-a5007fe2d23e",
   "metadata": {},
   "source": [
    "In this notebook, Data Science Tools and Ecosystem are summarized."
   ]
  },
  {
   "cell_type": "markdown",
   "id": "f9e0c6b6-197f-4a9b-b831-07f932002909",
   "metadata": {},
   "source": [
    "#### Objectives:\n",
    "\n",
    "- List popular languages for Data Science\n",
    "- Identify commonly used libraries in Data Science\n",
    "- Explore various Data Science tools and environments\n",
    "- Convert units of time (e.g., minutes to hours) using Python\n",
    "- Understand the basics of Markdown formatting in Jupyter Notebooks\n"
   ]
  },
  {
   "cell_type": "markdown",
   "id": "f60b4bd8-f600-41fb-8414-2f83bb2efedd",
   "metadata": {},
   "source": [
    "\n",
    "Some of the popular languages that Data Scientists use are: \n",
    "\n",
    " 1. Python\n",
    " 2. SQL\n",
    " 3. Julia\n",
    " 4. R\n",
    " 5. Scala"
   ]
  },
  {
   "cell_type": "markdown",
   "id": "0cb080e6-aefb-47eb-a83d-50b692f3b4b2",
   "metadata": {},
   "source": [
    "Some of the commonly used libraries used by Data Scientists include:\n",
    "\n",
    "1. NumPy\n",
    "2. Pandas\n",
    "3. Matplotlib\n",
    "4. Scikit-learn\n",
    "5. TensorFlow\n"
   ]
  },
  {
   "cell_type": "markdown",
   "id": "04d074d1-7de9-41bb-a29d-554db828d261",
   "metadata": {},
   "source": [
    "|Data Science tool|\n",
    "|-------------------|\n",
    "| Jupyter nootebook |\n",
    "| Rstudio |\n",
    "| VS Code |"
   ]
  },
  {
   "cell_type": "markdown",
   "id": "5cef2e25-3620-4ef1-9072-3f443b26ea58",
   "metadata": {},
   "source": [
    " ### Below are a few examples of evaluating arithmetic expressions in Python"
   ]
  },
  {
   "cell_type": "code",
   "execution_count": 1,
   "id": "a47598f4-7575-46b7-8410-ccadf8a2ca74",
   "metadata": {},
   "outputs": [
    {
     "data": {
      "text/plain": [
       "17"
      ]
     },
     "execution_count": 1,
     "metadata": {},
     "output_type": "execute_result"
    }
   ],
   "source": [
    "(3*4)+5 # This a simple arithmetic expression to mutiply then add integers"
   ]
  },
  {
   "cell_type": "code",
   "execution_count": 5,
   "id": "dd7a8d51-0495-4eda-a81d-6cd6ad687d5c",
   "metadata": {},
   "outputs": [
    {
     "data": {
      "text/plain": [
       "3.3333333333333335"
      ]
     },
     "execution_count": 5,
     "metadata": {},
     "output_type": "execute_result"
    }
   ],
   "source": [
    "minute= 200     #This will convert 200 minutes to hours by diving by 60\n",
    "hours=200/60\n",
    "hours       "
   ]
  },
  {
   "cell_type": "markdown",
   "id": "52c2c8f2-b766-4fb0-9e7c-ff42b606d04d",
   "metadata": {},
   "source": [
    "## Author"
   ]
  },
  {
   "cell_type": "markdown",
   "id": "59a7faec-43fa-4c64-bf27-7218bc55daa9",
   "metadata": {},
   "source": [
    "Saba Rafaqat"
   ]
  }
 ],
 "metadata": {
  "kernelspec": {
   "display_name": "Python 3 (ipykernel)",
   "language": "python",
   "name": "python3"
  },
  "language_info": {
   "codemirror_mode": {
    "name": "ipython",
    "version": 3
   },
   "file_extension": ".py",
   "mimetype": "text/x-python",
   "name": "python",
   "nbconvert_exporter": "python",
   "pygments_lexer": "ipython3",
   "version": "3.12.4"
  }
 },
 "nbformat": 4,
 "nbformat_minor": 5
}
